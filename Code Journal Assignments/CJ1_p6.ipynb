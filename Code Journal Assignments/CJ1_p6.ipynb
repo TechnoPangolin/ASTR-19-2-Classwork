{
 "cells": [
  {
   "cell_type": "markdown",
   "metadata": {},
   "source": [
    "### Title: CJ1_p6.ipynb\n",
    "### Author: April Ewers\n",
    "### Date: 2025-04-02\n",
    "### Assignment: Code Journal #1 Prompt #6\n",
    "### Task: Create a Jupyter Notebook where, in separate cells, you define functions that return sin(x) and cos(x).  Use Markdown cells to comment your Notebook, and describe what each function does. Create a third Python cell that will tabulate sin(x) and cos(x) using these previously defined functions vs. x, where x is tabulated between 0 and 2 with a thousand entries. Write a fourth Python cell that will use a for loop to print out the first 10 values of x, sin(x), and cos(x) in columns."
   ]
  },
  {
   "cell_type": "code",
   "execution_count": 1,
   "metadata": {},
   "outputs": [],
   "source": [
    "import math"
   ]
  },
  {
   "cell_type": "markdown",
   "metadata": {},
   "source": [
    "This function will return the sine of the passed argument."
   ]
  },
  {
   "cell_type": "code",
   "execution_count": 2,
   "metadata": {},
   "outputs": [],
   "source": [
    "def sin(x):\n",
    "    return math.sin(x)"
   ]
  },
  {
   "cell_type": "markdown",
   "metadata": {},
   "source": [
    "This function will return the cosine of the passed argument."
   ]
  },
  {
   "cell_type": "code",
   "execution_count": 3,
   "metadata": {},
   "outputs": [],
   "source": [
    "def cos(x):\n",
    "    return math.cos(x)"
   ]
  },
  {
   "cell_type": "markdown",
   "metadata": {},
   "source": [
    "This cell creates two arrays to hold the thousand values of sin(x) and cos(x) respectively and then calculates the values to populate them by stepping in 0.002 increments between [0, 2)"
   ]
  },
  {
   "cell_type": "code",
   "execution_count": 5,
   "metadata": {},
   "outputs": [],
   "source": [
    "tabSin, tabCos = [], []\n",
    "for i in range(1000):\n",
    "    tabSin.append(sin(i/500))\n",
    "    tabCos.append(cos(i/500))"
   ]
  },
  {
   "cell_type": "markdown",
   "metadata": {},
   "source": [
    "This cell creates a header with labels for the columns, and then displays the first 10 values of the arrays created above in columns with sufficient decimal places to include the,"
   ]
  },
  {
   "cell_type": "code",
   "execution_count": 10,
   "metadata": {},
   "outputs": [
    {
     "name": "stdout",
     "output_type": "stream",
     "text": [
      "    x     sin(x)   cos(x)  \n",
      "  0.000   0.00000  1.00000 \n",
      "  0.002   0.00200  1.00000 \n",
      "  0.004   0.00400  0.99999 \n",
      "  0.006   0.00600  0.99998 \n",
      "  0.008   0.00800  0.99997 \n",
      "  0.010   0.01000  0.99995 \n",
      "  0.012   0.01200  0.99993 \n",
      "  0.014   0.01400  0.99990 \n",
      "  0.016   0.01600  0.99987 \n",
      "  0.018   0.01800  0.99984 \n"
     ]
    }
   ],
   "source": [
    "print(\"{:^9}{:^9}{:^9}\".format(\"x\", \"sin(x)\", \"cos(x)\"))\n",
    "\n",
    "for i in range(10):\n",
    "    print(\"{:^9.3f}{:^9.5f}{:^9.5f}\".format(i/500, tabSin[i], tabCos[i]))"
   ]
  }
 ],
 "metadata": {
  "kernelspec": {
   "display_name": "Python 3",
   "language": "python",
   "name": "python3"
  },
  "language_info": {
   "codemirror_mode": {
    "name": "ipython",
    "version": 3
   },
   "file_extension": ".py",
   "mimetype": "text/x-python",
   "name": "python",
   "nbconvert_exporter": "python",
   "pygments_lexer": "ipython3",
   "version": "3.13.2"
  }
 },
 "nbformat": 4,
 "nbformat_minor": 2
}
